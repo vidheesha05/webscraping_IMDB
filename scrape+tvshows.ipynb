{
  "nbformat": 4,
  "nbformat_minor": 0,
  "metadata": {
    "colab": {
      "name": "scrape+tvshows.ipynb",
      "provenance": [],
      "collapsed_sections": [],
      "machine_shape": "hm"
    },
    "kernelspec": {
      "name": "python3",
      "display_name": "Python 3"
    },
    "language_info": {
      "name": "python"
    },
    "accelerator": "GPU"
  },
  "cells": [
    {
      "cell_type": "code",
      "execution_count": null,
      "metadata": {
        "id": "Q8LjyZbgDLpo"
      },
      "outputs": [],
      "source": [
        "from bs4 import BeautifulSoup\n",
        "import requests, openpyxl"
      ]
    },
    {
      "cell_type": "code",
      "source": [
        "excel_new = openpyxl.Workbook()\n",
        "sheet_new = excel_new.active\n",
        "sheet_new.title = 'IMDB_popular_TV_shows'\n",
        "\n",
        "sheet_new.append(['Show_rank','Name of the TV Show','Released Year','Rating'])"
      ],
      "metadata": {
        "id": "ZpkFLEnjDMTT"
      },
      "execution_count": 5,
      "outputs": []
    },
    {
      "cell_type": "code",
      "source": [
        "try:\n",
        "  link = requests.get('https://www.imdb.com/chart/toptv/?ref_=nv_tvv_250')\n",
        "  link.raise_for_status()\n",
        "\n",
        "  soup_new = BeautifulSoup(link.text,'html.parser')\n",
        "  shows = soup_new.find('tbody',class_='lister-list').find_all('tr')\n",
        "\n",
        "  for show in shows:\n",
        "    name = show.find('td',class_='titleColumn').a.text\n",
        "    show_rank = show.find('td',class_='titleColumn').get_text(strip=True).split('.')[0]\n",
        "    release_year = show.find('td',class_='titleColumn').span.text.strip('()')\n",
        "    rating = show.find('td',class_='ratingColumn imdbRating').strong.text\n",
        "    print(name)\n",
        "    sheet_new.append([show_rank,name,release_year,rating])\n",
        "\n",
        "except Exception as e:\n",
        "  print(e)\n",
        "\n",
        "\n",
        "excel_new.save('IMDB_popular_TV_shows.xlsx')"
      ],
      "metadata": {
        "id": "wkKKeFCYDvBN"
      },
      "execution_count": null,
      "outputs": []
    },
    {
      "cell_type": "code",
      "source": [
        ""
      ],
      "metadata": {
        "id": "-U5XK-JpEEmy"
      },
      "execution_count": null,
      "outputs": []
    }
  ]
}